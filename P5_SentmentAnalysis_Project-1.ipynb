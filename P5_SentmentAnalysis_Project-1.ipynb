{
 "cells": [
  {
   "cell_type": "markdown",
   "id": "7633342d",
   "metadata": {},
   "source": [
    "## TEAM ARMSTERDAM "
   ]
  },
  {
   "cell_type": "code",
   "execution_count": 6,
   "id": "12bf38fa",
   "metadata": {},
   "outputs": [],
   "source": [
    "import gradio as gr\n",
    "\n",
    "import nltk\n",
    "from nltk.sentiment.vader import SentimentIntensityAnalyzer\n",
    "from wordcloud import WordCloud\n",
    "from nltk.tokenize import word_tokenize\n",
    "from collections import Counter\n",
    "\n",
    "# linear algebra\n",
    "import numpy as np \n",
    "\n",
    "# data processing\n",
    "import pandas as pd \n",
    "\n",
    "# For creating plots\n",
    "import seaborn as sns \n",
    "\n",
    "# For specifying the axes tick format\n",
    "import matplotlib.ticker as mtick  \n",
    "import matplotlib.pyplot as plt\n",
    "\n",
    "sns.set(style = 'white')\n",
    "\n",
    "\n",
    "import os\n",
    "from sklearn import preprocessing\n",
    "\n",
    "#data split\n",
    "from sklearn.model_selection import train_test_split\n",
    "from sklearn.preprocessing import MinMaxScaler\n",
    "\n",
    "\n",
    "#Evaluation Metrics\n",
    "from sklearn import metrics\n",
    "from sklearn.metrics import classification_report, confusion_matrix \n",
    "from sklearn.metrics import accuracy_score\n",
    "\n",
    "import warnings\n",
    "warnings.filterwarnings('ignore')"
   ]
  },
  {
   "cell_type": "markdown",
   "id": "bbbc4110",
   "metadata": {},
   "source": [
    "## Dataset Importation"
   ]
  },
  {
   "cell_type": "code",
   "execution_count": 7,
   "id": "a4d20165",
   "metadata": {},
   "outputs": [],
   "source": [
    "# Load the train and test datasets\n",
    "train_data = pd.read_csv(\"Train.csv\")\n",
    "test_data = pd.read_csv(\"Test.csv\")"
   ]
  },
  {
   "cell_type": "code",
   "execution_count": 8,
   "id": "9df21dd3",
   "metadata": {},
   "outputs": [
    {
     "data": {
      "text/html": [
       "<div>\n",
       "<style scoped>\n",
       "    .dataframe tbody tr th:only-of-type {\n",
       "        vertical-align: middle;\n",
       "    }\n",
       "\n",
       "    .dataframe tbody tr th {\n",
       "        vertical-align: top;\n",
       "    }\n",
       "\n",
       "    .dataframe thead th {\n",
       "        text-align: right;\n",
       "    }\n",
       "</style>\n",
       "<table border=\"1\" class=\"dataframe\">\n",
       "  <thead>\n",
       "    <tr style=\"text-align: right;\">\n",
       "      <th></th>\n",
       "      <th>tweet_id</th>\n",
       "      <th>safe_text</th>\n",
       "      <th>label</th>\n",
       "      <th>agreement</th>\n",
       "    </tr>\n",
       "  </thead>\n",
       "  <tbody>\n",
       "    <tr>\n",
       "      <th>0</th>\n",
       "      <td>CL1KWCMY</td>\n",
       "      <td>Me &amp;amp; The Big Homie meanboy3000 #MEANBOY #M...</td>\n",
       "      <td>0.0</td>\n",
       "      <td>1.0</td>\n",
       "    </tr>\n",
       "    <tr>\n",
       "      <th>1</th>\n",
       "      <td>E3303EME</td>\n",
       "      <td>I'm 100% thinking of devoting my career to pro...</td>\n",
       "      <td>1.0</td>\n",
       "      <td>1.0</td>\n",
       "    </tr>\n",
       "    <tr>\n",
       "      <th>2</th>\n",
       "      <td>M4IVFSMS</td>\n",
       "      <td>#whatcausesautism VACCINES, DO NOT VACCINATE Y...</td>\n",
       "      <td>-1.0</td>\n",
       "      <td>1.0</td>\n",
       "    </tr>\n",
       "    <tr>\n",
       "      <th>3</th>\n",
       "      <td>1DR6ROZ4</td>\n",
       "      <td>I mean if they immunize my kid with something ...</td>\n",
       "      <td>-1.0</td>\n",
       "      <td>1.0</td>\n",
       "    </tr>\n",
       "    <tr>\n",
       "      <th>4</th>\n",
       "      <td>J77ENIIE</td>\n",
       "      <td>Thanks to &lt;user&gt; Catch me performing at La Nui...</td>\n",
       "      <td>0.0</td>\n",
       "      <td>1.0</td>\n",
       "    </tr>\n",
       "  </tbody>\n",
       "</table>\n",
       "</div>"
      ],
      "text/plain": [
       "   tweet_id                                          safe_text  label  \\\n",
       "0  CL1KWCMY  Me &amp; The Big Homie meanboy3000 #MEANBOY #M...    0.0   \n",
       "1  E3303EME  I'm 100% thinking of devoting my career to pro...    1.0   \n",
       "2  M4IVFSMS  #whatcausesautism VACCINES, DO NOT VACCINATE Y...   -1.0   \n",
       "3  1DR6ROZ4  I mean if they immunize my kid with something ...   -1.0   \n",
       "4  J77ENIIE  Thanks to <user> Catch me performing at La Nui...    0.0   \n",
       "\n",
       "   agreement  \n",
       "0        1.0  \n",
       "1        1.0  \n",
       "2        1.0  \n",
       "3        1.0  \n",
       "4        1.0  "
      ]
     },
     "execution_count": 8,
     "metadata": {},
     "output_type": "execute_result"
    }
   ],
   "source": [
    "train_data.head()"
   ]
  },
  {
   "cell_type": "code",
   "execution_count": 9,
   "id": "f046f2b0",
   "metadata": {},
   "outputs": [
    {
     "name": "stdout",
     "output_type": "stream",
     "text": [
      "<class 'pandas.core.frame.DataFrame'>\n",
      "RangeIndex: 10001 entries, 0 to 10000\n",
      "Data columns (total 4 columns):\n",
      " #   Column     Non-Null Count  Dtype  \n",
      "---  ------     --------------  -----  \n",
      " 0   tweet_id   10001 non-null  object \n",
      " 1   safe_text  10001 non-null  object \n",
      " 2   label      10000 non-null  float64\n",
      " 3   agreement  9999 non-null   float64\n",
      "dtypes: float64(2), object(2)\n",
      "memory usage: 312.7+ KB\n"
     ]
    }
   ],
   "source": [
    "train_data.info()"
   ]
  },
  {
   "cell_type": "code",
   "execution_count": 10,
   "id": "17387d24",
   "metadata": {},
   "outputs": [
    {
     "data": {
      "text/plain": [
       "(10001, 4)"
      ]
     },
     "execution_count": 10,
     "metadata": {},
     "output_type": "execute_result"
    }
   ],
   "source": [
    "train_data.shape"
   ]
  },
  {
   "cell_type": "markdown",
   "id": "578e0d34",
   "metadata": {},
   "source": [
    "## Data Cleaning "
   ]
  },
  {
   "cell_type": "markdown",
   "id": "a394fb0f",
   "metadata": {},
   "source": [
    "Let's explore the data to see if there are any missing values"
   ]
  },
  {
   "cell_type": "code",
   "execution_count": 11,
   "id": "5d862f81",
   "metadata": {},
   "outputs": [
    {
     "data": {
      "text/plain": [
       "tweet_id      object\n",
       "safe_text     object\n",
       "label        float64\n",
       "agreement    float64\n",
       "dtype: object"
      ]
     },
     "execution_count": 11,
     "metadata": {},
     "output_type": "execute_result"
    }
   ],
   "source": [
    "train_data.dtypes"
   ]
  },
  {
   "cell_type": "markdown",
   "id": "7c2fb1bf",
   "metadata": {},
   "source": [
    "## checking for missing values"
   ]
  },
  {
   "cell_type": "code",
   "execution_count": 12,
   "id": "0fbbf00b",
   "metadata": {},
   "outputs": [
    {
     "data": {
      "text/plain": [
       "tweet_id     0\n",
       "safe_text    0\n",
       "label        1\n",
       "agreement    2\n",
       "dtype: int64"
      ]
     },
     "execution_count": 12,
     "metadata": {},
     "output_type": "execute_result"
    }
   ],
   "source": [
    "train_data.isnull().sum()"
   ]
  },
  {
   "cell_type": "markdown",
   "id": "eab49bea",
   "metadata": {},
   "source": [
    "## Removing missing values"
   ]
  },
  {
   "cell_type": "code",
   "execution_count": 13,
   "id": "019dd8dd",
   "metadata": {},
   "outputs": [],
   "source": [
    "#Removing missing values \n",
    "train_data.dropna(inplace = True)"
   ]
  },
  {
   "cell_type": "code",
   "execution_count": 14,
   "id": "c3e4ecaf",
   "metadata": {},
   "outputs": [
    {
     "data": {
      "text/plain": [
       "tweet_id     0\n",
       "safe_text    0\n",
       "label        0\n",
       "agreement    0\n",
       "dtype: int64"
      ]
     },
     "execution_count": 14,
     "metadata": {},
     "output_type": "execute_result"
    }
   ],
   "source": [
    "train_data.isnull().sum()"
   ]
  },
  {
   "cell_type": "markdown",
   "id": "64e4b6d7",
   "metadata": {},
   "source": [
    "## Removing Tweet ID"
   ]
  },
  {
   "cell_type": "code",
   "execution_count": 15,
   "id": "5a8e9659",
   "metadata": {},
   "outputs": [],
   "source": [
    "# Remove customer IDs from the data set\n",
    "train_data = train_data .iloc[:,1:]"
   ]
  },
  {
   "cell_type": "code",
   "execution_count": 16,
   "id": "457d2f66",
   "metadata": {},
   "outputs": [
    {
     "data": {
      "text/html": [
       "<div>\n",
       "<style scoped>\n",
       "    .dataframe tbody tr th:only-of-type {\n",
       "        vertical-align: middle;\n",
       "    }\n",
       "\n",
       "    .dataframe tbody tr th {\n",
       "        vertical-align: top;\n",
       "    }\n",
       "\n",
       "    .dataframe thead th {\n",
       "        text-align: right;\n",
       "    }\n",
       "</style>\n",
       "<table border=\"1\" class=\"dataframe\">\n",
       "  <thead>\n",
       "    <tr style=\"text-align: right;\">\n",
       "      <th></th>\n",
       "      <th>safe_text</th>\n",
       "      <th>label</th>\n",
       "      <th>agreement</th>\n",
       "    </tr>\n",
       "  </thead>\n",
       "  <tbody>\n",
       "    <tr>\n",
       "      <th>0</th>\n",
       "      <td>Me &amp;amp; The Big Homie meanboy3000 #MEANBOY #M...</td>\n",
       "      <td>0.0</td>\n",
       "      <td>1.0</td>\n",
       "    </tr>\n",
       "    <tr>\n",
       "      <th>1</th>\n",
       "      <td>I'm 100% thinking of devoting my career to pro...</td>\n",
       "      <td>1.0</td>\n",
       "      <td>1.0</td>\n",
       "    </tr>\n",
       "    <tr>\n",
       "      <th>2</th>\n",
       "      <td>#whatcausesautism VACCINES, DO NOT VACCINATE Y...</td>\n",
       "      <td>-1.0</td>\n",
       "      <td>1.0</td>\n",
       "    </tr>\n",
       "    <tr>\n",
       "      <th>3</th>\n",
       "      <td>I mean if they immunize my kid with something ...</td>\n",
       "      <td>-1.0</td>\n",
       "      <td>1.0</td>\n",
       "    </tr>\n",
       "    <tr>\n",
       "      <th>4</th>\n",
       "      <td>Thanks to &lt;user&gt; Catch me performing at La Nui...</td>\n",
       "      <td>0.0</td>\n",
       "      <td>1.0</td>\n",
       "    </tr>\n",
       "  </tbody>\n",
       "</table>\n",
       "</div>"
      ],
      "text/plain": [
       "                                           safe_text  label  agreement\n",
       "0  Me &amp; The Big Homie meanboy3000 #MEANBOY #M...    0.0        1.0\n",
       "1  I'm 100% thinking of devoting my career to pro...    1.0        1.0\n",
       "2  #whatcausesautism VACCINES, DO NOT VACCINATE Y...   -1.0        1.0\n",
       "3  I mean if they immunize my kid with something ...   -1.0        1.0\n",
       "4  Thanks to <user> Catch me performing at La Nui...    0.0        1.0"
      ]
     },
     "execution_count": 16,
     "metadata": {},
     "output_type": "execute_result"
    }
   ],
   "source": [
    "train_data.head()"
   ]
  },
  {
   "cell_type": "markdown",
   "id": "32aff689",
   "metadata": {},
   "source": [
    "# EXPLORATORY DATA ANALYSIS"
   ]
  },
  {
   "cell_type": "markdown",
   "id": "b2f1a063",
   "metadata": {},
   "source": [
    "1. Class Distribution Analysis:\n",
    "   - Examine the distribution of the \"label\" column to understand the balance between different classes (e.g., positive, negative, neutral, etc.). Visualize this distribution using bar plots or pie charts.\n",
    "\n",
    "2. Agreement Analysis:\n",
    "   - Investigate the \"agreement\" column to understand the level of agreement between annotators or classifiers. Analyze the distribution of agreement scores and determine if there are discrepancies or inconsistencies. Visualize this distribution using histograms or box plots.\n",
    "\n",
    "3. Text Length Analysis:\n",
    "   - Explore the length of the \"safe_text\" column (number of characters or words). Calculate summary statistics such as mean, median, minimum, maximum, and standard deviation. Plot histograms or box plots to visualize the distribution of text lengths.\n",
    "\n",
    "4. Word Frequency Analysis:\n",
    "   - Identify the most frequent words or terms in the \"safe_text\" column. Generate a word cloud or bar chart to visualize the top N words. This analysis can provide insights into the most commonly used language in the dataset."
   ]
  },
  {
   "cell_type": "markdown",
   "id": "31cb9f8c",
   "metadata": {},
   "source": [
    "Class Distribution Analysis\n",
    "\n",
    "Examine the distribution of the \"label\" column to understand the balance between different classes (e.g., positive, negative, neutral)"
   ]
  },
  {
   "cell_type": "code",
   "execution_count": 43,
   "id": "2d6abef4",
   "metadata": {},
   "outputs": [
    {
     "data": {
      "image/png": "[encoded data removed]",
      "text/plain": [
       "<Figure size 360x360 with 1 Axes>"
      ]
     },
     "metadata": {},
     "output_type": "display_data"
    }
   ],
   "source": [
    "ax = (train_data['label'].value_counts()*100.0 /len(train_data))\\\n",
    ".plot.pie(autopct='%.1f%%', labels = ['Neutral', 'Positive', 'Negative'],figsize =(5,5), fontsize = 12 )                                                                           \n",
    "ax.yaxis.set_major_formatter(mtick.PercentFormatter())\n",
    "ax.set_ylabel('',fontsize = 12)\n",
    "ax.set_title('Distribution of tweet', fontsize = 12)\n",
    "\n",
    "plt.show()"
   ]
  },
  {
   "cell_type": "markdown",
   "id": "b1a195a3",
   "metadata": {},
   "source": [
    "Agreement Analysis:\n",
    "\n",
    "Investigate the \"agreement\" column to understand the level of agreement between annotators or classifiers. Analyze the distribution of agreement scores and determine if there are discrepancies or inconsistencies."
   ]
  },
  {
   "cell_type": "code",
   "execution_count": 45,
   "id": "4afa185d",
   "metadata": {},
   "outputs": [
    {
     "data": {
      "image/png": "[encoded data removed]",
      "text/plain": [
       "<Figure size 432x288 with 1 Axes>"
      ]
     },
     "metadata": {},
     "output_type": "display_data"
    }
   ],
   "source": [
    "ax = train_data['agreement'].value_counts().plot(kind = 'bar',rot = 45, width = 0.3)\n",
    "ax.set_ylabel('Agreement')\n",
    "ax.set_title('Agreement Distribution')\n",
    "\n",
    "plt.show()"
   ]
  },
  {
   "cell_type": "markdown",
   "id": "a1f7c47c",
   "metadata": {},
   "source": [
    "Text Length Analysis\n",
    "\n",
    "Explore the length of the \"safe_text\" column (number of characters or words)."
   ]
  },
  {
   "cell_type": "code",
   "execution_count": 24,
   "id": "086bfa85",
   "metadata": {},
   "outputs": [
    {
     "data": {
      "image/png": "[encoded data removed]",
      "text/plain": [
       "<Figure size 432x288 with 1 Axes>"
      ]
     },
     "metadata": {},
     "output_type": "display_data"
    }
   ],
   "source": [
    "# Calculate the length of each text\n",
    "train_data['text_length'] = train_data['safe_text'].apply(lambda x: len(x))\n",
    "\n",
    "# Plot the text length distribution\n",
    "plt.hist(train_data['text_length'], bins=20)\n",
    "plt.xlabel('Text Length')\n",
    "plt.ylabel('Count')\n",
    "plt.title('Text Length Distribution')\n",
    "plt.show()\n"
   ]
  },
  {
   "cell_type": "markdown",
   "id": "8544abd9",
   "metadata": {},
   "source": [
    "Word Frequency Analysis\n",
    "\n",
    "Identify the most frequent words or terms in the \"safe_text\" column. This analysis can provide insights into the most commonly used language in the dataset."
   ]
  },
  {
   "cell_type": "code",
   "execution_count": 41,
   "id": "1656035c",
   "metadata": {},
   "outputs": [
    {
     "name": "stdout",
     "output_type": "stream",
     "text": [
      "Word: <\tFrequency: 10229\n",
      "Word: >\tFrequency: 10229\n",
      "Word: .\tFrequency: 5968\n",
      "Word: user\tFrequency: 5595\n",
      "Word: #\tFrequency: 5557\n",
      "Word: url\tFrequency: 4634\n",
      "Word: ,\tFrequency: 3586\n",
      "Word: to\tFrequency: 3436\n",
      "Word: the\tFrequency: 3420\n",
      "Word: measles\tFrequency: 2518\n"
     ]
    }
   ],
   "source": [
    "\n",
    "# Combine all the texts into a single string\n",
    "all_text = ' '.join(train_data['safe_text'])\n",
    "\n",
    "# Tokenize the text into individual words\n",
    "tokens = word_tokenize(all_text)\n",
    "\n",
    "# Count the frequency of each word\n",
    "word_freq = Counter(tokens)\n",
    "\n",
    "# Get the top 10 most used words\n",
    "top_10_words = word_freq.most_common(10)\n",
    "\n",
    "# Print the top 10 words and their frequencies\n",
    "for word, freq in top_10_words:\n",
    "    print(f\"Word: {word}\\tFrequency: {freq}\")\n"
   ]
  },
  {
   "cell_type": "code",
   "execution_count": 42,
   "id": "0e542600",
   "metadata": {},
   "outputs": [
    {
     "data": {
      "image/png": "[encoded data removed]",
      "text/plain": [
       "<Figure size 720x432 with 1 Axes>"
      ]
     },
     "metadata": {},
     "output_type": "display_data"
    }
   ],
   "source": [
    "# Combine all the texts into a single string\n",
    "all_text = ' '.join(train_data['safe_text'])\n",
    "\n",
    "# Tokenize the text into individual words\n",
    "tokens = word_tokenize(all_text)\n",
    "\n",
    "# Count the frequency of each word\n",
    "word_freq = Counter(tokens)\n",
    "\n",
    "# Get the top 10 most used words and their frequencies\n",
    "top_10_words = word_freq.most_common(10)\n",
    "\n",
    "# Extract the words and frequencies for plotting\n",
    "words = [word for word, freq in top_10_words]\n",
    "frequencies = [freq for word, freq in top_10_words]\n",
    "\n",
    "# Create a bar plot\n",
    "plt.figure(figsize=(10, 6))\n",
    "plt.bar(words, frequencies)\n",
    "plt.xlabel('Words')\n",
    "plt.ylabel('Frequency')\n",
    "plt.title('Top 10 Most Used Words')\n",
    "plt.xticks(rotation=45)\n",
    "plt.tight_layout()\n",
    "plt.show()\n"
   ]
  },
  {
   "cell_type": "markdown",
   "id": "04b97698",
   "metadata": {},
   "source": [
    "## Works on the roberta model"
   ]
  },
  {
   "cell_type": "code",
   "execution_count": null,
   "id": "cf520d06",
   "metadata": {},
   "outputs": [],
   "source": [
    "Train, eval = train_test_split(Train, test_size=0.2, random_state=42, stratify= Train['label'])"
   ]
  },
  {
   "cell_type": "code",
   "execution_count": null,
   "id": "2c2225c3",
   "metadata": {},
   "outputs": [],
   "source": [
    "print(f\"new dataframe shapes: train is {Train.shape}, eval is {eval.shape}\")"
   ]
  },
  {
   "cell_type": "code",
   "execution_count": null,
   "id": "6f54c45a",
   "metadata": {},
   "outputs": [],
   "source": [
    "# Save splitted subsets\n",
    "Train.to_csv(\"/content/drive/MyDrive/Tweets_data/Train.csv\", index=False)\n",
    "eval.to_csv(\"/content/drive/MyDrive/Tweets_data/Test.csv\", index=False)\n",
    "\n",
    "dataset = load_dataset('csv',\n",
    "                        data_files={'Train': \"/content/drive/MyDrive/Tweets_data/Train.csv\",\n",
    "                        'eval': \"/content/drive/MyDrive/Tweets_data/Train.csv\"}, encoding = \"ISO-8859-1\")"
   ]
  },
  {
   "cell_type": "code",
   "execution_count": null,
   "id": "7e9097b4",
   "metadata": {},
   "outputs": [],
   "source": [
    "# Instantiate the tokenizer\n",
    "tokenizer = AutoTokenizer.from_pretrained(\"cardiffnlp/twitter-roberta-base-sentiment\", num_labels=3)"
   ]
  },
  {
   "cell_type": "code",
   "execution_count": null,
   "id": "6818c68e",
   "metadata": {},
   "outputs": [],
   "source": [
    "## Function to transform labels\n",
    "def transform_labels(label):\n",
    "\n",
    "    label = label['label']\n",
    "    num = 0\n",
    "    if label == -1: #'Negative'\n",
    "        num = 0\n",
    "    elif label == 0: #'Neutral'\n",
    "        num = 1\n",
    "    elif label == 1: #'Positive'\n",
    "        num = 2\n",
    "\n",
    "    return {'labels': num}"
   ]
  },
  {
   "cell_type": "code",
   "execution_count": null,
   "id": "940828df",
   "metadata": {},
   "outputs": [],
   "source": [
    "## Function to tokenize data\n",
    "def tokenize_data(example):\n",
    "    return tokenizer(example['safe_text'], padding='max_length',truncation=True, max_length = 256)"
   ]
  },
  {
   "cell_type": "code",
   "execution_count": null,
   "id": "7498615d",
   "metadata": {},
   "outputs": [],
   "source": [
    "# Tokenize the tweets\n",
    "dataset = dataset.map(tokenize_data, batched=True)"
   ]
  },
  {
   "cell_type": "code",
   "execution_count": null,
   "id": "efa4a77b",
   "metadata": {},
   "outputs": [],
   "source": [
    "# Transform\tlabels and limit the columns\n",
    "remove_columns = ['tweet_id', 'label', 'safe_text', 'agreement']\n",
    "dataset = dataset.map(transform_labels, remove_columns=remove_columns)"
   ]
  },
  {
   "cell_type": "code",
   "execution_count": null,
   "id": "da02533f",
   "metadata": {},
   "outputs": [],
   "source": [
    "pip install accelerate -U"
   ]
  },
  {
   "cell_type": "code",
   "execution_count": null,
   "id": "7820ba30",
   "metadata": {},
   "outputs": [],
   "source": [
    "pip install transformers[torch]"
   ]
  },
  {
   "cell_type": "code",
   "execution_count": null,
   "id": "823c0309",
   "metadata": {},
   "outputs": [],
   "source": [
    "pip show accelerate"
   ]
  },
  {
   "cell_type": "code",
   "execution_count": null,
   "id": "952606f0",
   "metadata": {},
   "outputs": [],
   "source": [
    "# Define training arguments\n",
    "training_args = TrainingArguments(\n",
    "    \"covid_tweets_sentiment_analysis_model\",\n",
    "    num_train_epochs=4,\n",
    "    load_best_model_at_end=True,\n",
    "    evaluation_strategy=\"epoch\",\n",
    "    save_strategy=\"epoch\"\n",
    "    )"
   ]
  },
  {
   "cell_type": "code",
   "execution_count": null,
   "id": "6d9eba15",
   "metadata": {},
   "outputs": [],
   "source": [
    "# Load the pretrained model\n",
    "from transformers import AutoModelForSequenceClassification\n",
    "model = AutoModelForSequenceClassification.from_pretrained(\"cardiffnlp/twitter-roberta-base-sentiment\", num_labels=3)"
   ]
  },
  {
   "cell_type": "code",
   "execution_count": null,
   "id": "2239291e",
   "metadata": {},
   "outputs": [],
   "source": [
    "# Define evaluation metrics\n",
    "metric = load_metric(\"accuracy\")\n",
    "\n",
    "def compute_metrics(eval_pred):\n",
    "    logits, labels = eval_pred\n",
    "    predictions = np.argmax(logits, axis=-1)\n",
    "    return metric.compute(predictions=predictions, references=labels)"
   ]
  },
  {
   "cell_type": "code",
   "execution_count": null,
   "id": "97121a47",
   "metadata": {},
   "outputs": [],
   "source": [
    "# Instantiate the training and evaluation sets\n",
    "train_dataset = dataset[\"Train\"].shuffle(seed=24)\n",
    "eval_dataset = dataset[\"eval\"].shuffle(seed=24)"
   ]
  },
  {
   "cell_type": "code",
   "execution_count": null,
   "id": "f70a2e69",
   "metadata": {},
   "outputs": [],
   "source": [
    "#converting training data to PyTorch tensors to speed up training and adding padding:\n",
    "from transformers import DataCollatorWithPadding\n",
    "data_collator = DataCollatorWithPadding(tokenizer=tokenizer)"
   ]
  },
  {
   "cell_type": "code",
   "execution_count": null,
   "id": "55986b18",
   "metadata": {},
   "outputs": [],
   "source": [
    "# Reinstantiate the trainer for evaluation\n",
    "trainer = Trainer(\n",
    "    model=model,\n",
    "    args=training_args,\n",
    "    train_dataset=train_dataset,\n",
    "    eval_dataset=eval_dataset,\n",
    "    tokenizer=tokenizer,\n",
    "    data_collator=data_collator,\n",
    "    compute_metrics=compute_metrics,\n",
    ")"
   ]
  },
  {
   "cell_type": "code",
   "execution_count": null,
   "id": "643892d7",
   "metadata": {},
   "outputs": [],
   "source": [
    "# Launch the final evaluation\n",
    "trainer.evaluate()"
   ]
  },
  {
   "cell_type": "code",
   "execution_count": null,
   "id": "1b2a93db",
   "metadata": {},
   "outputs": [],
   "source": []
  },
  {
   "cell_type": "code",
   "execution_count": null,
   "id": "b93a6a86",
   "metadata": {},
   "outputs": [],
   "source": []
  },
  {
   "cell_type": "code",
   "execution_count": null,
   "id": "5c2a2300",
   "metadata": {},
   "outputs": [],
   "source": []
  },
  {
   "cell_type": "code",
   "execution_count": null,
   "id": "13d18e23",
   "metadata": {},
   "outputs": [],
   "source": []
  }
 ],
 "metadata": {
  "kernelspec": {
   "display_name": "Python 3",
   "language": "python",
   "name": "python3"
  },
  "language_info": {
   "codemirror_mode": {
    "name": "ipython",
    "version": 3
   },
   "file_extension": ".py",
   "mimetype": "text/x-python",
   "name": "python",
   "nbconvert_exporter": "python",
   "pygments_lexer": "ipython3",
   "version": "3.8.8"
  }
 },
 "nbformat": 4,
 "nbformat_minor": 5
}
